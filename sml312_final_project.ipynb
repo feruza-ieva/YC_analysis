{
 "cells": [
  {
   "cell_type": "markdown",
   "id": "c6ca58da-4603-422f-af83-ff5c80817478",
   "metadata": {
    "tags": []
   },
   "source": [
    "# EDA of YC Startup Directory - 2024 Dataset\n",
    "We start of by performing Exploratory Data Analysis on one of our datasets - YC Startup Directory Dataset 2024 from Kaggle. "
   ]
  },
  {
   "cell_type": "code",
   "execution_count": 22,
   "id": "88eed172-7209-4909-8e12-5d867bad5f9b",
   "metadata": {
    "tags": []
   },
   "outputs": [],
   "source": [
    "import pandas as pd\n",
    "import numpy as np\n",
    "import seaborn as sns\n",
    "import matplotlib.pyplot as plt\n",
    "%matplotlib inline\n",
    "sns.set(color_codes=True)"
   ]
  },
  {
   "cell_type": "code",
   "execution_count": 23,
   "id": "8ce38f56-554f-4202-a68e-fcd8819619bd",
   "metadata": {
    "tags": []
   },
   "outputs": [
    {
     "name": "stdout",
     "output_type": "stream",
     "text": [
      "   company_id   company_name  \\\n",
      "0       29523   K-Scale Labs   \n",
      "1       29519  Forge Rewards   \n",
      "2       29517    RetailReady   \n",
      "3       29610     Hamming AI   \n",
      "4       29518        FanCave   \n",
      "\n",
      "                                   short_description  \\\n",
      "0                        Open-source humanoid robots   \n",
      "1  All-in-one operations software to power restau...   \n",
      "2       An AI-powered supply chain compliance engine   \n",
      "3                                 Making AI reliable   \n",
      "4         Powering the free agency of college sports   \n",
      "\n",
      "                                    long_description batch  status  \\\n",
      "0  We're building humanoid robots to do most of w...   W24  Active   \n",
      "1  Forge is the modern operations software for em...   W24  Active   \n",
      "2  Every time workers in a warehouse box an order...   W24  Active   \n",
      "3  If 2023 was the year of AI POCs, 2024 is the y...   S24  Active   \n",
      "4  FanCave powers the free agency of college spor...   W24  Active   \n",
      "\n",
      "                                                tags          location  \\\n",
      "0  ['artificial-intelligence', 'machine-learning'...          New York   \n",
      "1                     ['fintech', 'food-tech', 'ai']     San Francisco   \n",
      "2  ['b2b', 'compliance', 'logistics', 'supply-cha...               NaN   \n",
      "3  ['artificial-intelligence', 'developer-tools',...     San Francisco   \n",
      "4  ['marketplace', 'sports-tech', 'consumer', 'en...  Roeland Park, KS   \n",
      "\n",
      "  country  year_founded  num_founders  \\\n",
      "0      US        2024.0             3   \n",
      "1      US        2023.0             2   \n",
      "2     NaN        2024.0             2   \n",
      "3      US        2024.0             2   \n",
      "4      US        2024.0             2   \n",
      "\n",
      "                                      founders_names  team_size  \\\n",
      "0  ['Benjamin Bolte', 'Pawel Budzianowski', 'Matt...        3.0   \n",
      "1                       ['Ethan Chang', 'Isaac Kan']        2.0   \n",
      "2                      ['Elle Smyth', 'Sarah Hamer']        3.0   \n",
      "3             ['Marius Buleandra', 'Sumanyu Sharma']        2.0   \n",
      "4                      ['Luke Bogus', 'Nick Siscoe']        2.0   \n",
      "\n",
      "                          website  \\\n",
      "0             https://kscale.dev/   \n",
      "1   https://www.forgerewards.com/   \n",
      "2  https://www.retailreadyai.com/   \n",
      "3             https://hamming.ai/   \n",
      "4          https://www.fancave.me   \n",
      "\n",
      "                                              cb_url  \\\n",
      "0                                                NaN   \n",
      "1                                                NaN   \n",
      "2                                                NaN   \n",
      "3  https://www.crunchbase.com/organization/hammin...   \n",
      "4                                                NaN   \n",
      "\n",
      "                                      linkedin_url  \n",
      "0         https://www.linkedin.com/company/kscale/  \n",
      "1        https://linkedin.com/company/forgerewards  \n",
      "2  https://www.linkedin.com/company/retailreadyai/  \n",
      "3     https://www.linkedin.com/company/hamming-ai/  \n",
      "4        https://www.linkedin.com/company/fancave/  \n"
     ]
    }
   ],
   "source": [
    "df = pd.read_csv(\"2024-05-11-yc-companies.csv\")\n",
    "\n",
    "# prints the first 5 rows of the dataset\n",
    "print(df.head(5))"
   ]
  },
  {
   "cell_type": "code",
   "execution_count": 24,
   "id": "3c949337-7057-41fc-9510-f85a1bc53838",
   "metadata": {
    "tags": []
   },
   "outputs": [
    {
     "data": {
      "text/plain": [
       "company_id             int64\n",
       "company_name          object\n",
       "short_description     object\n",
       "long_description      object\n",
       "batch                 object\n",
       "status                object\n",
       "tags                  object\n",
       "location              object\n",
       "country               object\n",
       "year_founded         float64\n",
       "num_founders           int64\n",
       "founders_names        object\n",
       "team_size            float64\n",
       "website               object\n",
       "cb_url                object\n",
       "linkedin_url          object\n",
       "dtype: object"
      ]
     },
     "execution_count": 24,
     "metadata": {},
     "output_type": "execute_result"
    }
   ],
   "source": [
    "df.dtypes"
   ]
  },
  {
   "cell_type": "markdown",
   "id": "480b19a0-6148-48d3-a527-ccdb5d3a0856",
   "metadata": {},
   "source": [
    "There are some columns that will never be touched, and dropping them is a classic choice in EDA. In our case, I don't see myself using the linkedin_url, cb_url, founders_names, company_name, website, and company_id so I will drop them."
   ]
  },
  {
   "cell_type": "code",
   "execution_count": 25,
   "id": "05f1028e-c947-4a21-869b-6819021166ea",
   "metadata": {
    "tags": []
   },
   "outputs": [
    {
     "data": {
      "text/html": [
       "<div>\n",
       "<style scoped>\n",
       "    .dataframe tbody tr th:only-of-type {\n",
       "        vertical-align: middle;\n",
       "    }\n",
       "\n",
       "    .dataframe tbody tr th {\n",
       "        vertical-align: top;\n",
       "    }\n",
       "\n",
       "    .dataframe thead th {\n",
       "        text-align: right;\n",
       "    }\n",
       "</style>\n",
       "<table border=\"1\" class=\"dataframe\">\n",
       "  <thead>\n",
       "    <tr style=\"text-align: right;\">\n",
       "      <th></th>\n",
       "      <th>short_description</th>\n",
       "      <th>long_description</th>\n",
       "      <th>batch</th>\n",
       "      <th>status</th>\n",
       "      <th>tags</th>\n",
       "      <th>location</th>\n",
       "      <th>country</th>\n",
       "      <th>year_founded</th>\n",
       "      <th>num_founders</th>\n",
       "      <th>team_size</th>\n",
       "    </tr>\n",
       "  </thead>\n",
       "  <tbody>\n",
       "    <tr>\n",
       "      <th>0</th>\n",
       "      <td>Open-source humanoid robots</td>\n",
       "      <td>We're building humanoid robots to do most of w...</td>\n",
       "      <td>W24</td>\n",
       "      <td>Active</td>\n",
       "      <td>['artificial-intelligence', 'machine-learning'...</td>\n",
       "      <td>New York</td>\n",
       "      <td>US</td>\n",
       "      <td>2024.0</td>\n",
       "      <td>3</td>\n",
       "      <td>3.0</td>\n",
       "    </tr>\n",
       "    <tr>\n",
       "      <th>1</th>\n",
       "      <td>All-in-one operations software to power restau...</td>\n",
       "      <td>Forge is the modern operations software for em...</td>\n",
       "      <td>W24</td>\n",
       "      <td>Active</td>\n",
       "      <td>['fintech', 'food-tech', 'ai']</td>\n",
       "      <td>San Francisco</td>\n",
       "      <td>US</td>\n",
       "      <td>2023.0</td>\n",
       "      <td>2</td>\n",
       "      <td>2.0</td>\n",
       "    </tr>\n",
       "    <tr>\n",
       "      <th>2</th>\n",
       "      <td>An AI-powered supply chain compliance engine</td>\n",
       "      <td>Every time workers in a warehouse box an order...</td>\n",
       "      <td>W24</td>\n",
       "      <td>Active</td>\n",
       "      <td>['b2b', 'compliance', 'logistics', 'supply-cha...</td>\n",
       "      <td>NaN</td>\n",
       "      <td>NaN</td>\n",
       "      <td>2024.0</td>\n",
       "      <td>2</td>\n",
       "      <td>3.0</td>\n",
       "    </tr>\n",
       "    <tr>\n",
       "      <th>3</th>\n",
       "      <td>Making AI reliable</td>\n",
       "      <td>If 2023 was the year of AI POCs, 2024 is the y...</td>\n",
       "      <td>S24</td>\n",
       "      <td>Active</td>\n",
       "      <td>['artificial-intelligence', 'developer-tools',...</td>\n",
       "      <td>San Francisco</td>\n",
       "      <td>US</td>\n",
       "      <td>2024.0</td>\n",
       "      <td>2</td>\n",
       "      <td>2.0</td>\n",
       "    </tr>\n",
       "    <tr>\n",
       "      <th>4</th>\n",
       "      <td>Powering the free agency of college sports</td>\n",
       "      <td>FanCave powers the free agency of college spor...</td>\n",
       "      <td>W24</td>\n",
       "      <td>Active</td>\n",
       "      <td>['marketplace', 'sports-tech', 'consumer', 'en...</td>\n",
       "      <td>Roeland Park, KS</td>\n",
       "      <td>US</td>\n",
       "      <td>2024.0</td>\n",
       "      <td>2</td>\n",
       "      <td>2.0</td>\n",
       "    </tr>\n",
       "  </tbody>\n",
       "</table>\n",
       "</div>"
      ],
      "text/plain": [
       "                                   short_description  \\\n",
       "0                        Open-source humanoid robots   \n",
       "1  All-in-one operations software to power restau...   \n",
       "2       An AI-powered supply chain compliance engine   \n",
       "3                                 Making AI reliable   \n",
       "4         Powering the free agency of college sports   \n",
       "\n",
       "                                    long_description batch  status  \\\n",
       "0  We're building humanoid robots to do most of w...   W24  Active   \n",
       "1  Forge is the modern operations software for em...   W24  Active   \n",
       "2  Every time workers in a warehouse box an order...   W24  Active   \n",
       "3  If 2023 was the year of AI POCs, 2024 is the y...   S24  Active   \n",
       "4  FanCave powers the free agency of college spor...   W24  Active   \n",
       "\n",
       "                                                tags          location  \\\n",
       "0  ['artificial-intelligence', 'machine-learning'...          New York   \n",
       "1                     ['fintech', 'food-tech', 'ai']     San Francisco   \n",
       "2  ['b2b', 'compliance', 'logistics', 'supply-cha...               NaN   \n",
       "3  ['artificial-intelligence', 'developer-tools',...     San Francisco   \n",
       "4  ['marketplace', 'sports-tech', 'consumer', 'en...  Roeland Park, KS   \n",
       "\n",
       "  country  year_founded  num_founders  team_size  \n",
       "0      US        2024.0             3        3.0  \n",
       "1      US        2023.0             2        2.0  \n",
       "2     NaN        2024.0             2        3.0  \n",
       "3      US        2024.0             2        2.0  \n",
       "4      US        2024.0             2        2.0  "
      ]
     },
     "execution_count": 25,
     "metadata": {},
     "output_type": "execute_result"
    }
   ],
   "source": [
    "df = df.drop(['company_id', 'company_name', 'founders_names', 'website', 'cb_url', 'linkedin_url'], axis=1)\n",
    "df.head(5)\n"
   ]
  },
  {
   "cell_type": "code",
   "execution_count": 26,
   "id": "245728d4-ab2a-475f-a210-ccb4e7c9bb03",
   "metadata": {
    "tags": []
   },
   "outputs": [
    {
     "data": {
      "text/plain": [
       "(4663, 10)"
      ]
     },
     "execution_count": 26,
     "metadata": {},
     "output_type": "execute_result"
    }
   ],
   "source": [
    "df.shape"
   ]
  },
  {
   "cell_type": "code",
   "execution_count": 27,
   "id": "3754c6f9-68eb-4aec-b472-e7e081d403fa",
   "metadata": {
    "tags": []
   },
   "outputs": [
    {
     "name": "stdout",
     "output_type": "stream",
     "text": [
      "number of duplicate rows:       short_description long_description batch    status tags location country  \\\n",
      "3503               NaN              NaN  IK12  Inactive   []      NaN     NaN   \n",
      "3509               NaN              NaN  IK12  Inactive   []      NaN     NaN   \n",
      "3510               NaN              NaN  IK12  Inactive   []      NaN     NaN   \n",
      "3511               NaN              NaN  IK12  Inactive   []      NaN     NaN   \n",
      "4539               NaN              NaN   S09  Inactive   []      NaN     NaN   \n",
      "4577               NaN              NaN   S08  Inactive   []      NaN     NaN   \n",
      "4651               NaN              NaN   S06  Inactive   []      NaN     NaN   \n",
      "\n",
      "      year_founded  num_founders  team_size  \n",
      "3503           NaN             0        0.0  \n",
      "3509           NaN             0        0.0  \n",
      "3510           NaN             0        0.0  \n",
      "3511           NaN             0        0.0  \n",
      "4539           NaN             2        0.0  \n",
      "4577           NaN             2        0.0  \n",
      "4651           NaN             1        0.0  \n"
     ]
    }
   ],
   "source": [
    "duplicate_rows_df = df[df.duplicated()]\n",
    "print(\"number of duplicate rows: \", duplicate_rows_df)"
   ]
  },
  {
   "cell_type": "code",
   "execution_count": 28,
   "id": "b149b56b-7d5c-4d96-864c-9dd000425ad2",
   "metadata": {
    "tags": []
   },
   "outputs": [
    {
     "name": "stdout",
     "output_type": "stream",
     "text": [
      "short_description     200\n",
      "long_description      330\n",
      "batch                   0\n",
      "status                  0\n",
      "tags                    0\n",
      "location              270\n",
      "country               263\n",
      "year_founded         1080\n",
      "num_founders            0\n",
      "team_size              72\n",
      "dtype: int64\n"
     ]
    }
   ],
   "source": [
    "print(df.isnull().sum())"
   ]
  },
  {
   "cell_type": "code",
   "execution_count": 29,
   "id": "ee68c2fc-766c-4866-855f-4df0efc3fae2",
   "metadata": {
    "tags": []
   },
   "outputs": [
    {
     "data": {
      "text/plain": [
       "<Axes: xlabel='year_founded'>"
      ]
     },
     "execution_count": 29,
     "metadata": {},
     "output_type": "execute_result"
    },
    {
     "data": {
      "image/png": "[encoded data removed]",
      "text/plain": [
       "<Figure size 640x480 with 1 Axes>"
      ]
     },
     "metadata": {},
     "output_type": "display_data"
    }
   ],
   "source": [
    "sns.boxplot(x=df['year_founded'])"
   ]
  },
  {
   "cell_type": "markdown",
   "id": "49627402",
   "metadata": {},
   "source": [
    "From the boxplot above we see that we have some outliers before the year of 2012. It's tempting to remove them all, but before we do that we need to make sure that the numbers we're dropping are turly not useful for our research. First let's analyze startups before 2010 and statistics related to them. "
   ]
  },
  {
   "cell_type": "code",
   "execution_count": 30,
   "id": "1fd3f3a2",
   "metadata": {},
   "outputs": [
    {
     "data": {
      "image/png": "[encoded data removed]",
      "text/plain": [
       "<Figure size 800x600 with 1 Axes>"
      ]
     },
     "metadata": {},
     "output_type": "display_data"
    },
    {
     "name": "stdout",
     "output_type": "stream",
     "text": [
      "status\n",
      "Active      15\n",
      "Acquired    15\n",
      "Inactive     8\n",
      "Public       4\n",
      "Name: count, dtype: int64\n"
     ]
    }
   ],
   "source": [
    "df_pre_2010 = df[df['year_founded'] < 2010]\n",
    "\n",
    "status_count = df_pre_2010['status'].value_counts()\n",
    "\n",
    "plt.figure(figsize=(8, 6))\n",
    "sns.barplot(x=status_count.index, y=status_count.values, palette='pastel')\n",
    "plt.title(\"Activity Levels of Startups Founded Before 2010\", fontsize=14)\n",
    "plt.xlabel(\"Status\", fontsize=12)\n",
    "plt.ylabel(\"Count of Startups\", fontsize=12)\n",
    "plt.grid(axis='y', linestyle='--', alpha=0.7)\n",
    "plt.tight_layout()\n",
    "plt.show()\n",
    "\n",
    "\n",
    "print(status_count)"
   ]
  },
  {
   "cell_type": "markdown",
   "id": "6e3b4656",
   "metadata": {},
   "source": [
    "While this provides us with some insight to the activity status of companies before 2010, it does not tell us anything about the function of these active companies. The goal of this project is to analyze the trends before and after the AI boom. Let's do one last analysis, and this time let's see if the startups before 2010 include keywords related to AI/ML."
   ]
  },
  {
   "cell_type": "code",
   "execution_count": 31,
   "id": "c35cc66b",
   "metadata": {},
   "outputs": [
    {
     "name": "stdout",
     "output_type": "stream",
     "text": [
      "Number of AI-related companies founded before 2010: 1\n"
     ]
    },
    {
     "data": {
      "image/png": "[encoded data removed]",
      "text/plain": [
       "<Figure size 800x600 with 1 Axes>"
      ]
     },
     "metadata": {},
     "output_type": "display_data"
    }
   ],
   "source": [
    "# Define AI-related tags and keywords\n",
    "ai_tags = ['artificial-intelligence', 'machine-learning', 'generative-ai']\n",
    "\n",
    "# Filter for companies before 2010 with the pre defined ai_tags array\n",
    "df_pre_2010_ai = df[(df['year_founded'] < 2010) & (df['tags'].astype(str).str.contains('|'.join(ai_tags)))]\n",
    "print(f\"Number of AI-related companies founded before 2010: {len(df_pre_2010_ai)}\")\n",
    "status_counts_ai = df_pre_2010_ai['status'].value_counts()\n",
    "\n",
    "# Plot the distribution\n",
    "plt.figure(figsize=(8, 6))\n",
    "sns.barplot(x=status_counts_ai.index, y=status_counts_ai.values, palette='pastel')\n",
    "plt.title(\"Number of AI-Related Startups Founded Before 2010\", fontsize=14)\n",
    "plt.xlabel(\"Status\", fontsize=12)\n",
    "plt.ylabel(\"Count of Startups\", fontsize=12)\n",
    "plt.grid(axis='y', linestyle='--', alpha=0.7)\n",
    "plt.tight_layout()\n",
    "plt.show()"
   ]
  },
  {
   "cell_type": "markdown",
   "id": "f1d9f85f",
   "metadata": {},
   "source": [
    "Now it is more clear that it is safe to disregard the values before the year of 2010. Since the goal of this work is to recognize patterns and draw connections of the AI era and the YC acceptance behvior, we do not want to create noise with data that is not quite relevant. "
   ]
  },
  {
   "cell_type": "code",
   "execution_count": 32,
   "id": "e7cb726e",
   "metadata": {},
   "outputs": [
    {
     "data": {
      "image/png": "[encoded data removed]",
      "text/plain": [
       "<Figure size 1200x600 with 1 Axes>"
      ]
     },
     "metadata": {},
     "output_type": "display_data"
    }
   ],
   "source": [
    "# Further Analysis using tags\n",
    "year = 'year_founded'\n",
    "tags = 'tags'\n",
    "df[tags] = df[tags].astype(str)\n",
    "\n",
    "df[tags] = df[tags].str.strip(\"[]\").str.replace(\"'\", \"\").str.split(\", \")\n",
    "tag_expand = df.explode(tags)\n",
    "\n",
    "tag_count = tag_expand.groupby(['tags', 'year_founded']).size().reset_index(name='count')\n",
    "most_freq_tags = tag_expand[tags].value_counts().head(5).index\n",
    "\n",
    "\n",
    "filtered = tag_count[tag_count[tags].isin(most_freq_tags)]\n",
    "\n",
    "post_2010 = filtered[filtered[year] >= 2010]\n",
    "\n",
    "table_fix = post_2010.pivot_table(index=tags, columns=year, values='count', fill_value=0)\n",
    "\n",
    "# visualize\n",
    "table_fix.T.plot(kind='bar', figsize=(12, 6))\n",
    "plt.title(\"Top 5 tags by percentage before and after 2022\")\n",
    "plt.xlabel(\"Year\")\n",
    "plt.ylabel(\"Count\")\n",
    "plt.legend(title=\"tags\", bbox_to_anchor=(1.05,1), loc='upper left')\n",
    "plt.tight_layout()\n",
    "plt.show()"
   ]
  },
  {
   "cell_type": "markdown",
   "id": "067b65b8",
   "metadata": {},
   "source": [
    "Looking at the table above that represents the most frequent tags related to the companies between 2010 and 2024, we see that artificial intelligence made it to the top. Close observation also yields that the bars associated with this tags had a sudden spike in 2023. For example, blue bar that represents artificial-intelligence tag went from around 56 in 2022 to 130 in 2023 indicating 132 percent increase. "
   ]
  },
  {
   "cell_type": "code",
   "execution_count": 33,
   "id": "94d68f61",
   "metadata": {},
   "outputs": [
    {
     "data": {
      "image/png": "[encoded data removed]",
      "text/plain": [
       "<Figure size 1200x600 with 1 Axes>"
      ]
     },
     "metadata": {},
     "output_type": "display_data"
    }
   ],
   "source": [
    "# Further Analysis using tags\n",
    "year = 'year_founded'\n",
    "tags = 'tags'\n",
    "df[tags] = df[tags].astype(str)\n",
    "\n",
    "df[tags] = df[tags].str.strip(\"[]\").str.replace(\"'\", \"\").str.split(\", \")\n",
    "tag_expand = df.explode(tags)\n",
    "\n",
    "tag_count = tag_expand.groupby(['tags', 'year_founded']).size().reset_index(name='count')\n",
    "most_freq_tags = tag_expand[tags].value_counts().head(5).index\n",
    "\n",
    "\n",
    "filtered = tag_count[tag_count[tags].isin(most_freq_tags)]\n",
    "\n",
    "post_2021 = filtered[filtered[year] >= 2021]\n",
    "\n",
    "\n",
    "table_fix = post_2021.pivot_table(index=tags, columns=year, values='count', fill_value=0)\n",
    "\n",
    "\n",
    "# visualize\n",
    "table_fix.T.plot(kind='bar', figsize=(12, 6))\n",
    "plt.title(\"Top 5 tags by percentage before and after 2022\")\n",
    "plt.xlabel(\"Year\")\n",
    "plt.ylabel(\"Count\")\n",
    "plt.legend(title=\"tags\", bbox_to_anchor=(1.05,1), loc='upper left')\n",
    "plt.tight_layout()\n",
    "plt.show()"
   ]
  },
  {
   "cell_type": "code",
   "execution_count": 34,
   "id": "264f1137",
   "metadata": {},
   "outputs": [
    {
     "name": "stdout",
     "output_type": "stream",
     "text": [
      "Number of Ai startups: 466\n",
      "\n",
      "Batch distribution of AI startups\n",
      "     batch                     tags\n",
      "4562   S08  artificial-intelligence\n",
      "4525   S09  artificial-intelligence\n",
      "4364   S11  artificial-intelligence\n",
      "4283   S12  artificial-intelligence\n",
      "4127   S13  artificial-intelligence\n",
      "...    ...                      ...\n",
      "190    W24  artificial-intelligence\n",
      "193    W24  artificial-intelligence\n",
      "198    W24  artificial-intelligence\n",
      "140    W24  artificial-intelligence\n",
      "0      W24  artificial-intelligence\n",
      "\n",
      "[466 rows x 2 columns]\n"
     ]
    }
   ],
   "source": [
    "ai_startups = tag_expand[tag_expand[tags].str.lower()=='artificial-intelligence']\n",
    "batches_corr = ai_startups[['batch', tags]].sort_values('batch')\n",
    "print(f\"Number of Ai startups: {len(batches_corr)}\")\n",
    "print(\"\\nBatch distribution of AI startups\")\n",
    "print(batches_corr)"
   ]
  },
  {
   "cell_type": "code",
   "execution_count": 35,
   "id": "0045501d",
   "metadata": {},
   "outputs": [
    {
     "name": "stdout",
     "output_type": "stream",
     "text": [
      "Before 2022:\n",
      "\n",
      "Total before 2022: 200\n",
      "\n",
      "After 2022:\n",
      "\n",
      "Total after 2022: 266\n"
     ]
    },
    {
     "name": "stderr",
     "output_type": "stream",
     "text": [
      "/var/folders/_x/vpjb_csj1znfqgjstz6dpzxm0000gn/T/ipykernel_4779/1501344233.py:3: SettingWithCopyWarning: \n",
      "A value is trying to be set on a copy of a slice from a DataFrame.\n",
      "Try using .loc[row_indexer,col_indexer] = value instead\n",
      "\n",
      "See the caveats in the documentation: https://pandas.pydata.org/pandas-docs/stable/user_guide/indexing.html#returning-a-view-versus-a-copy\n",
      "  ai_startups['year'] = ai_startups['batch'].apply(get_year)\n"
     ]
    }
   ],
   "source": [
    "def get_year(batch):\n",
    "    return int(batch[1:])\n",
    "ai_startups['year'] = ai_startups['batch'].apply(get_year)\n",
    "\n",
    "before_22 = ai_startups[ai_startups['year'] < 22]\n",
    "after_22 = ai_startups[ai_startups['year'] >= 22]\n",
    "\n",
    "print(\"Before 2022:\")\n",
    "print(\"\\nTotal before 2022:\", len(before_22))\n",
    "\n",
    "\n",
    "print(\"\\nAfter 2022:\")\n",
    "print(\"\\nTotal after 2022:\", len(after_22))"
   ]
  },
  {
   "cell_type": "code",
   "execution_count": 36,
   "id": "b2585388",
   "metadata": {},
   "outputs": [
    {
     "name": "stderr",
     "output_type": "stream",
     "text": [
      "/var/folders/_x/vpjb_csj1znfqgjstz6dpzxm0000gn/T/ipykernel_4779/2850680867.py:16: SettingWithCopyWarning: \n",
      "A value is trying to be set on a copy of a slice from a DataFrame.\n",
      "Try using .loc[row_indexer,col_indexer] = value instead\n",
      "\n",
      "See the caveats in the documentation: https://pandas.pydata.org/pandas-docs/stable/user_guide/indexing.html#returning-a-view-versus-a-copy\n",
      "  df_filtered['era'] = df_filtered['year_founded'].apply(lambda x: 'Post-2022' if x >= 2022 else 'Pre-2022')\n"
     ]
    },
    {
     "name": "stdout",
     "output_type": "stream",
     "text": [
      "Accuracy: 0.8556405353728489\n",
      "\n",
      "Classification Report:\n",
      "               precision    recall  f1-score   support\n",
      "\n",
      "           0       0.79      0.67      0.73       297\n",
      "           1       0.88      0.93      0.90       749\n",
      "\n",
      "    accuracy                           0.86      1046\n",
      "   macro avg       0.83      0.80      0.81      1046\n",
      "weighted avg       0.85      0.86      0.85      1046\n",
      "\n",
      "\n",
      "Confusion Matrix:\n",
      " [[200  97]\n",
      " [ 54 695]]\n",
      "\n",
      "Top 10 Most Important Features:\n",
      "           Feature  Importance\n",
      "378     team_size    0.208908\n",
      "9              ai    0.059812\n",
      "35            b2b    0.037412\n",
      "299          saas    0.035933\n",
      "379  num_founders    0.034749\n",
      "193  intelligence    0.034054\n",
      "166    generative    0.030478\n",
      "25     artificial    0.028276\n",
      "152       fintech    0.023733\n",
      "114     developer    0.016761\n"
     ]
    },
    {
     "data": {
      "text/plain": [
       "['vectorizer.pkl']"
      ]
     },
     "execution_count": 36,
     "metadata": {},
     "output_type": "execute_result"
    }
   ],
   "source": [
    "# Import necessary libraries\n",
    "import pandas as pd\n",
    "import numpy as np\n",
    "from sklearn.model_selection import train_test_split\n",
    "from sklearn.feature_extraction.text import TfidfVectorizer\n",
    "from sklearn.preprocessing import LabelEncoder\n",
    "from sklearn.ensemble import RandomForestClassifier\n",
    "from sklearn.metrics import accuracy_score, classification_report, confusion_matrix\n",
    "import joblib\n",
    "\n",
    "df = pd.read_csv(\"2024-05-11-yc-companies.csv\")\n",
    "\n",
    "# Filter startups founded in 2010 or later\n",
    "df_filtered = df[df['year_founded'] >= 2010]\n",
    "\n",
    "df_filtered['era'] = df_filtered['year_founded'].apply(lambda x: 'Post-2022' if x >= 2022 else 'Pre-2022')\n",
    "\n",
    "#relevant features\n",
    "features = ['tags', 'team_size', 'num_founders']  # Add more features if available\n",
    "df_model = df_filtered[features + ['era']].dropna()\n",
    "\n",
    "# Process tags\n",
    "df_model['tags'] = df_model['tags'].astype(str).str.strip(\"[]\").str.replace(\"'\", \"\").str.replace(\",\", \" \")\n",
    "vectorizer = TfidfVectorizer(max_features=500)  # Limit to top 500 features for simplicity\n",
    "tags_vectorized = vectorizer.fit_transform(df_model['tags']).toarray()\n",
    "numerical_features = df_model[['team_size', 'num_founders']].fillna(0).values\n",
    "X = np.hstack((tags_vectorized, numerical_features))\n",
    "label_encoder = LabelEncoder()\n",
    "y = label_encoder.fit_transform(df_model['era'])\n",
    "\n",
    "# Train-test split\n",
    "X_train, X_test, y_train, y_test = train_test_split(X, y, test_size=0.3, random_state=42)\n",
    "\n",
    "# Initialize the model\n",
    "model = RandomForestClassifier(n_estimators=100, random_state=42)\n",
    "model.fit(X_train, y_train)\n",
    "\n",
    "# Predict on the test set\n",
    "y_pred = model.predict(X_test)\n",
    "\n",
    "print(\"Accuracy:\", accuracy_score(y_test, y_pred))\n",
    "print(\"\\nClassification Report:\\n\", classification_report(y_test, y_pred))\n",
    "print(\"\\nConfusion Matrix:\\n\", confusion_matrix(y_test, y_pred))\n",
    "\n",
    "feature_names = vectorizer.get_feature_names_out().tolist() + ['team_size', 'num_founders']\n",
    "importance = model.feature_importances_\n",
    "important_features = pd.DataFrame({'Feature': feature_names, 'Importance': importance})\n",
    "important_features = important_features.sort_values(by='Importance', ascending=False).head(10)\n",
    "print(\"\\nTop 10 Most Important Features:\\n\", important_features)\n",
    "\n",
    "joblib.dump(model, 'yc_startup_classifier.pkl')\n",
    "joblib.dump(vectorizer, 'vectorizer.pkl')\n"
   ]
  },
  {
   "cell_type": "code",
   "execution_count": 37,
   "id": "23ad5211",
   "metadata": {},
   "outputs": [
    {
     "name": "stderr",
     "output_type": "stream",
     "text": [
      "[nltk_data] Downloading package stopwords to\n",
      "[nltk_data]     /Users/feruza/nltk_data...\n",
      "[nltk_data]   Package stopwords is already up-to-date!\n",
      "[nltk_data] Downloading package punkt to /Users/feruza/nltk_data...\n",
      "[nltk_data]   Package punkt is already up-to-date!\n",
      "/var/folders/_x/vpjb_csj1znfqgjstz6dpzxm0000gn/T/ipykernel_4779/1999326640.py:29: SettingWithCopyWarning: \n",
      "A value is trying to be set on a copy of a slice from a DataFrame.\n",
      "Try using .loc[row_indexer,col_indexer] = value instead\n",
      "\n",
      "See the caveats in the documentation: https://pandas.pydata.org/pandas-docs/stable/user_guide/indexing.html#returning-a-view-versus-a-copy\n",
      "  df_filtered['target'] = df_filtered['year_founded'].apply(lambda x: 1 if x >= 2022 else 0)\n",
      "/var/folders/_x/vpjb_csj1znfqgjstz6dpzxm0000gn/T/ipykernel_4779/1999326640.py:32: SettingWithCopyWarning: \n",
      "A value is trying to be set on a copy of a slice from a DataFrame.\n",
      "Try using .loc[row_indexer,col_indexer] = value instead\n",
      "\n",
      "See the caveats in the documentation: https://pandas.pydata.org/pandas-docs/stable/user_guide/indexing.html#returning-a-view-versus-a-copy\n",
      "  df_filtered['combined_description'] = (\n",
      "/var/folders/_x/vpjb_csj1znfqgjstz6dpzxm0000gn/T/ipykernel_4779/1999326640.py:35: SettingWithCopyWarning: \n",
      "A value is trying to be set on a copy of a slice from a DataFrame.\n",
      "Try using .loc[row_indexer,col_indexer] = value instead\n",
      "\n",
      "See the caveats in the documentation: https://pandas.pydata.org/pandas-docs/stable/user_guide/indexing.html#returning-a-view-versus-a-copy\n",
      "  df_filtered['processed_description'] = df_filtered['combined_description'].apply(preprocess_text)\n",
      "/var/folders/_x/vpjb_csj1znfqgjstz6dpzxm0000gn/T/ipykernel_4779/1999326640.py:54: SettingWithCopyWarning: \n",
      "A value is trying to be set on a copy of a slice from a DataFrame.\n",
      "Try using .loc[row_indexer,col_indexer] = value instead\n",
      "\n",
      "See the caveats in the documentation: https://pandas.pydata.org/pandas-docs/stable/user_guide/indexing.html#returning-a-view-versus-a-copy\n",
      "  df_filtered['processed_tags'] = df_filtered['tags'].astype(str).apply(preprocess_text)\n"
     ]
    },
    {
     "name": "stdout",
     "output_type": "stream",
     "text": [
      "Accuracy: 0.779868297271872\n",
      "\n",
      "Classification Report:\n",
      "               precision    recall  f1-score   support\n",
      "\n",
      "           0       0.78      0.97      0.86       761\n",
      "           1       0.78      0.31      0.45       302\n",
      "\n",
      "    accuracy                           0.78      1063\n",
      "   macro avg       0.78      0.64      0.65      1063\n",
      "weighted avg       0.78      0.78      0.74      1063\n",
      "\n"
     ]
    }
   ],
   "source": [
    "import pandas as pd\n",
    "import numpy as np\n",
    "from sklearn.ensemble import RandomForestClassifier\n",
    "from sklearn.model_selection import train_test_split\n",
    "from sklearn.metrics import accuracy_score, classification_report\n",
    "from gensim.models import Word2Vec\n",
    "import joblib\n",
    "import nltk\n",
    "from nltk.corpus import stopwords\n",
    "from nltk.tokenize import word_tokenize\n",
    "\n",
    "# Download NLTK resources\n",
    "nltk.download('stopwords')\n",
    "nltk.download('punkt')\n",
    "\n",
    "# Function to preprocess text\n",
    "def preprocess_text(text):\n",
    "    tokens = word_tokenize(text.lower())\n",
    "    tokens = [word for word in tokens if word.isalnum() and word not in stopwords.words('english')]\n",
    "    return tokens\n",
    "\n",
    "# Load the dataset\n",
    "df = pd.read_csv(\"2024-05-11-yc-companies.csv\")\n",
    "\n",
    "# Filter startups founded after 2010\n",
    "df_filtered = df[df['year_founded'] >= 2010]\n",
    "\n",
    "# Create a binary target column: 1 for Post-2022, 0 for Pre-2022\n",
    "df_filtered['target'] = df_filtered['year_founded'].apply(lambda x: 1 if x >= 2022 else 0)\n",
    "\n",
    "# Combine and preprocess text descriptions\n",
    "df_filtered['combined_description'] = (\n",
    "    df_filtered['short_description'].fillna('') + ' ' + df_filtered['long_description'].fillna('')\n",
    ")\n",
    "df_filtered['processed_description'] = df_filtered['combined_description'].apply(preprocess_text)\n",
    "\n",
    "# Train Word2Vec on the processed text data\n",
    "all_sentences = df_filtered['processed_description'].tolist()\n",
    "word2vec_model = Word2Vec(sentences=all_sentences, vector_size=100, window=5, min_count=2, workers=4)\n",
    "\n",
    "# Function to calculate the average Word2Vec vector for a text\n",
    "def get_avg_word2vec_vector(tokens, model, vector_size):\n",
    "    vectors = [model.wv[word] for word in tokens if word in model.wv]\n",
    "    if len(vectors) == 0:\n",
    "        return np.zeros(vector_size)\n",
    "    return np.mean(vectors, axis=0)\n",
    "\n",
    "# Generate Word2Vec embeddings for each description\n",
    "description_vectors = np.array([\n",
    "    get_avg_word2vec_vector(tokens, word2vec_model, 100) for tokens in df_filtered['processed_description']\n",
    "])\n",
    "\n",
    "# Process tags using Word2Vec (if tags are present)\n",
    "df_filtered['processed_tags'] = df_filtered['tags'].astype(str).apply(preprocess_text)\n",
    "tags_vectors = np.array([\n",
    "    get_avg_word2vec_vector(tokens, word2vec_model, 100) for tokens in df_filtered['processed_tags']\n",
    "])\n",
    "\n",
    "# Combine features\n",
    "numerical_features = df_filtered[['team_size', 'num_founders']].fillna(0).values\n",
    "X = np.hstack((numerical_features, description_vectors, tags_vectors))\n",
    "y = df_filtered['target']\n",
    "\n",
    "# Train-test split\n",
    "X_train, X_test, y_train, y_test = train_test_split(X, y, test_size=0.3, random_state=42)\n",
    "\n",
    "# Train a Random Forest classifier\n",
    "model = RandomForestClassifier(n_estimators=100, random_state=42)\n",
    "model.fit(X_train, y_train)\n",
    "\n",
    "# Evaluate the model\n",
    "y_pred = model.predict(X_test)\n",
    "print(\"Accuracy:\", accuracy_score(y_test, y_pred))\n",
    "print(\"\\nClassification Report:\\n\", classification_report(y_test, y_pred))\n",
    "\n",
    "# Save the model and Word2Vec\n",
    "joblib.dump(model, 'startup_trend_classifier_word2vec.pkl')\n",
    "word2vec_model.save('word2vec_model_startup.w2v')\n"
   ]
  },
  {
   "cell_type": "markdown",
   "id": "6bf25ce5",
   "metadata": {},
   "source": [
    "We see low performance with  RandomForestClassifier. We now try with logistic regression while also integrating vector embeddings"
   ]
  },
  {
   "cell_type": "code",
   "execution_count": 38,
   "id": "79afe88a",
   "metadata": {},
   "outputs": [
    {
     "name": "stdout",
     "output_type": "stream",
     "text": [
      "Accuracy: 0.788741302972802\n",
      "\n",
      "Classification Report:\n",
      "               precision    recall  f1-score   support\n",
      "\n",
      "           0       0.86      0.66      0.75       752\n",
      "           1       0.75      0.90      0.82       829\n",
      "\n",
      "    accuracy                           0.79      1581\n",
      "   macro avg       0.80      0.78      0.78      1581\n",
      "weighted avg       0.80      0.79      0.78      1581\n",
      "\n",
      "\n",
      "Confusion Matrix:\n",
      " [[498 254]\n",
      " [ 80 749]]\n"
     ]
    },
    {
     "data": {
      "text/plain": [
       "['logistic_regression_startup_model.pkl']"
      ]
     },
     "execution_count": 38,
     "metadata": {},
     "output_type": "execute_result"
    }
   ],
   "source": [
    "from sklearn.linear_model import LogisticRegression\n",
    "from sklearn.model_selection import train_test_split\n",
    "from sklearn.metrics import accuracy_score, classification_report, confusion_matrix\n",
    "from imblearn.over_sampling import SMOTE\n",
    "import numpy as np\n",
    "import joblib\n",
    "\n",
    "# Fix imbalance for the dataset\n",
    "smote = SMOTE(random_state=42)\n",
    "X_resampled, y_resampled = smote.fit_resample(X, y)\n",
    "\n",
    "# Train-test split\n",
    "X_train, X_test, y_train, y_test = train_test_split(X_resampled, y_resampled, test_size=0.3, random_state=42)\n",
    "\n",
    "log_reg = LogisticRegression(max_iter=1000, class_weight='balanced', random_state=42)\n",
    "log_reg.fit(X_train, y_train)\n",
    "\n",
    "y_pred = log_reg.predict(X_test)\n",
    "print(\"Accuracy:\", accuracy_score(y_test, y_pred))\n",
    "print(\"\\nClassification Report:\\n\", classification_report(y_test, y_pred))\n",
    "print(\"\\nConfusion Matrix:\\n\", confusion_matrix(y_test, y_pred))\n",
    "\n",
    "# Save the model\n",
    "joblib.dump(log_reg, 'logistic_regression_startup_model.pkl')\n"
   ]
  },
  {
   "cell_type": "code",
   "execution_count": 39,
   "id": "4bf2ab50",
   "metadata": {},
   "outputs": [
    {
     "name": "stderr",
     "output_type": "stream",
     "text": [
      "[nltk_data] Downloading package stopwords to\n",
      "[nltk_data]     /Users/feruza/nltk_data...\n",
      "[nltk_data]   Package stopwords is already up-to-date!\n",
      "[nltk_data] Downloading package punkt to /Users/feruza/nltk_data...\n",
      "[nltk_data]   Package punkt is already up-to-date!\n",
      "/var/folders/_x/vpjb_csj1znfqgjstz6dpzxm0000gn/T/ipykernel_4779/3386866771.py:34: SettingWithCopyWarning: \n",
      "A value is trying to be set on a copy of a slice from a DataFrame.\n",
      "Try using .loc[row_indexer,col_indexer] = value instead\n",
      "\n",
      "See the caveats in the documentation: https://pandas.pydata.org/pandas-docs/stable/user_guide/indexing.html#returning-a-view-versus-a-copy\n",
      "  df_filtered['target'] = df_filtered['year_founded'].apply(lambda x: 1 if x >= 2022 else 0)\n",
      "/var/folders/_x/vpjb_csj1znfqgjstz6dpzxm0000gn/T/ipykernel_4779/3386866771.py:37: SettingWithCopyWarning: \n",
      "A value is trying to be set on a copy of a slice from a DataFrame.\n",
      "Try using .loc[row_indexer,col_indexer] = value instead\n",
      "\n",
      "See the caveats in the documentation: https://pandas.pydata.org/pandas-docs/stable/user_guide/indexing.html#returning-a-view-versus-a-copy\n",
      "  df_filtered['combined_description'] = (\n",
      "/var/folders/_x/vpjb_csj1znfqgjstz6dpzxm0000gn/T/ipykernel_4779/3386866771.py:40: SettingWithCopyWarning: \n",
      "A value is trying to be set on a copy of a slice from a DataFrame.\n",
      "Try using .loc[row_indexer,col_indexer] = value instead\n",
      "\n",
      "See the caveats in the documentation: https://pandas.pydata.org/pandas-docs/stable/user_guide/indexing.html#returning-a-view-versus-a-copy\n",
      "  df_filtered['processed_description'] = df_filtered['combined_description'].apply(preprocess_text)\n",
      "/var/folders/_x/vpjb_csj1znfqgjstz6dpzxm0000gn/T/ipykernel_4779/3386866771.py:43: SettingWithCopyWarning: \n",
      "A value is trying to be set on a copy of a slice from a DataFrame.\n",
      "Try using .loc[row_indexer,col_indexer] = value instead\n",
      "\n",
      "See the caveats in the documentation: https://pandas.pydata.org/pandas-docs/stable/user_guide/indexing.html#returning-a-view-versus-a-copy\n",
      "  df_filtered['processed_tags'] = df_filtered['tags'].astype(str).apply(preprocess_text)\n"
     ]
    },
    {
     "name": "stdout",
     "output_type": "stream",
     "text": [
      "Accuracy: 0.8526249209361164\n",
      "\n",
      "Classification Report:\n",
      "               precision    recall  f1-score   support\n",
      "\n",
      "           0       0.90      0.78      0.83       752\n",
      "           1       0.82      0.92      0.87       829\n",
      "\n",
      "    accuracy                           0.85      1581\n",
      "   macro avg       0.86      0.85      0.85      1581\n",
      "weighted avg       0.86      0.85      0.85      1581\n",
      "\n",
      "\n",
      "Confusion Matrix:\n",
      " [[585 167]\n",
      " [ 66 763]]\n"
     ]
    },
    {
     "data": {
      "text/plain": [
       "['tags_vectorizer.pkl']"
      ]
     },
     "execution_count": 39,
     "metadata": {},
     "output_type": "execute_result"
    }
   ],
   "source": [
    "import pandas as pd\n",
    "import numpy as np\n",
    "from sklearn.feature_extraction.text import TfidfVectorizer\n",
    "from sklearn.model_selection import train_test_split\n",
    "from sklearn.linear_model import LogisticRegression\n",
    "from sklearn.metrics import accuracy_score, classification_report, confusion_matrix\n",
    "from imblearn.over_sampling import SMOTE\n",
    "import joblib\n",
    "import nltk\n",
    "from nltk.corpus import stopwords\n",
    "from nltk.tokenize import word_tokenize\n",
    "\n",
    "# Download NLTK resources\n",
    "nltk.download('stopwords')\n",
    "nltk.download('punkt')\n",
    "\n",
    "# Function to preprocess text\n",
    "def preprocess_text(text):\n",
    "    tokens = word_tokenize(text.lower())\n",
    "    tokens = [word for word in tokens if word.isalnum() and word not in stopwords.words('english')]\n",
    "    return ' '.join(tokens)\n",
    "\n",
    "# Load the dataset\n",
    "df = pd.read_csv(\"2024-05-11-yc-companies.csv\")\n",
    "\n",
    "# Drop irrelevant columns\n",
    "columns_to_drop = ['company_id', 'company_name', 'founders_names', 'website', 'cb_url', 'linkedin_url']\n",
    "df = df.drop(columns=columns_to_drop, errors='ignore')\n",
    "\n",
    "# Filter startups founded after 2010\n",
    "df_filtered = df[df['year_founded'] >= 2010]\n",
    "\n",
    "# Create a binary target column: 1 for Post-2022, 0 for Pre-2022\n",
    "df_filtered['target'] = df_filtered['year_founded'].apply(lambda x: 1 if x >= 2022 else 0)\n",
    "\n",
    "# Combine and preprocess text descriptions\n",
    "df_filtered['combined_description'] = (\n",
    "    df_filtered['short_description'].fillna('') + ' ' + df_filtered['long_description'].fillna('')\n",
    ")\n",
    "df_filtered['processed_description'] = df_filtered['combined_description'].apply(preprocess_text)\n",
    "\n",
    "# Preprocess tags\n",
    "df_filtered['processed_tags'] = df_filtered['tags'].astype(str).apply(preprocess_text)\n",
    "\n",
    "# Vectorize text features using TF-IDF\n",
    "tfidf_description = TfidfVectorizer(max_features=500)\n",
    "description_tfidf = tfidf_description.fit_transform(df_filtered['processed_description']).toarray()\n",
    "\n",
    "tfidf_tags = TfidfVectorizer(max_features=500)\n",
    "tags_tfidf = tfidf_tags.fit_transform(df_filtered['processed_tags']).toarray()\n",
    "\n",
    "# Combine features\n",
    "numerical_features = df_filtered[['team_size', 'num_founders']].fillna(0).values\n",
    "X = np.hstack((numerical_features, description_tfidf, tags_tfidf))\n",
    "y = df_filtered['target']\n",
    "\n",
    "# Address class imbalance with SMOTE\n",
    "smote = SMOTE(random_state=42)\n",
    "X_resampled, y_resampled = smote.fit_resample(X, y)\n",
    "\n",
    "# Train-test split\n",
    "X_train, X_test, y_train, y_test = train_test_split(X_resampled, y_resampled, test_size=0.3, random_state=42)\n",
    "\n",
    "# Train Logistic Regression\n",
    "log_reg = LogisticRegression(max_iter=1000, class_weight='balanced', random_state=42)\n",
    "log_reg.fit(X_train, y_train)\n",
    "\n",
    "# Evaluate the model\n",
    "y_pred = log_reg.predict(X_test)\n",
    "print(\"Accuracy:\", accuracy_score(y_test, y_pred))\n",
    "print(\"\\nClassification Report:\\n\", classification_report(y_test, y_pred))\n",
    "print(\"\\nConfusion Matrix:\\n\", confusion_matrix(y_test, y_pred))\n",
    "\n",
    "# Save the model and vectorizers\n",
    "joblib.dump(log_reg, 'logistic_regression_model.pkl')\n",
    "joblib.dump(tfidf_description, 'description_vectorizer.pkl')\n",
    "joblib.dump(tfidf_tags, 'tags_vectorizer.pkl')\n"
   ]
  },
  {
   "cell_type": "code",
   "execution_count": 40,
   "id": "bc28b401",
   "metadata": {},
   "outputs": [
    {
     "name": "stdout",
     "output_type": "stream",
     "text": [
      "Top 5 Features Indicating Post-2022 Trends:\n",
      "        Feature  Coefficient\n",
      "18           ai     3.855881\n",
      "271        llms     2.854978\n",
      "91   compliance     2.273248\n",
      "172     example     2.092859\n",
      "195    generate     1.911158\n"
     ]
    }
   ],
   "source": [
    "# Combine feature names\n",
    "numerical_feature_names = ['team_size', 'num_founders']\n",
    "description_feature_names = tfidf_description.get_feature_names_out()\n",
    "tags_feature_names = tfidf_tags.get_feature_names_out()\n",
    "all_feature_names = numerical_feature_names + list(description_feature_names) + list(tags_feature_names)\n",
    "\n",
    "# Extract coefficients\n",
    "coefficients = log_reg.coef_[0]\n",
    "\n",
    "# Map coefficients to feature names\n",
    "feature_importance = pd.DataFrame({\n",
    "    'Feature': all_feature_names,\n",
    "    'Coefficient': coefficients\n",
    "}).sort_values(by='Coefficient', ascending=False)\n",
    "\n",
    "# Print top 10 most important features\n",
    "print(\"Top 5 Features Indicating Post-2022 Trends:\")\n",
    "print(feature_importance.head(5))\n"
   ]
  },
  {
   "cell_type": "code",
   "execution_count": 41,
   "id": "f72ab08a",
   "metadata": {},
   "outputs": [
    {
     "name": "stdout",
     "output_type": "stream",
     "text": [
      "Top 5 Features Indicating Pre-2022 Trends:\n",
      "       Feature  Frequency\n",
      "13      online        373\n",
      "17       teams        383\n",
      "5   businesses        387\n",
      "4     business        392\n",
      "8    customers        397\n"
     ]
    }
   ],
   "source": [
    "from sklearn.feature_extraction.text import CountVectorizer\n",
    "\n",
    "# Filter startups before 2022\n",
    "pre_2022_data = df_filtered[df_filtered['year_founded'] < 2022]\n",
    "\n",
    "# Combine text data\n",
    "combined_text_pre_2022 = pre_2022_data['combined_description'].fillna('') + ' ' + pre_2022_data['processed_tags'].fillna('')\n",
    "\n",
    "# Vectorize text data\n",
    "vectorizer = CountVectorizer(max_features=20, stop_words='english')\n",
    "word_counts = vectorizer.fit_transform(combined_text_pre_2022)\n",
    "\n",
    "# Get top words\n",
    "top_words = vectorizer.get_feature_names_out()\n",
    "word_counts_sum = word_counts.sum(axis=0).A1\n",
    "top_words_df = pd.DataFrame({'Feature': top_words, 'Frequency': word_counts_sum}).sort_values(by='Frequency')\n",
    "print(\"Top 5 Features Indicating Pre-2022 Trends:\")\n",
    "print(top_words_df.head(5))\n"
   ]
  },
  {
   "cell_type": "code",
   "execution_count": 42,
   "id": "545afa93",
   "metadata": {},
   "outputs": [
    {
     "name": "stdout",
     "output_type": "stream",
     "text": [
      "Prediction: Unlikely to align\n",
      "Probability of alignment: 0.38\n"
     ]
    },
    {
     "name": "stderr",
     "output_type": "stream",
     "text": [
      "[nltk_data] Downloading package stopwords to\n",
      "[nltk_data]     /Users/feruza/nltk_data...\n",
      "[nltk_data]   Package stopwords is already up-to-date!\n",
      "[nltk_data] Downloading package punkt to /Users/feruza/nltk_data...\n",
      "[nltk_data]   Package punkt is already up-to-date!\n"
     ]
    }
   ],
   "source": [
    "import numpy as np\n",
    "import joblib\n",
    "from gensim.models import Word2Vec\n",
    "from nltk.tokenize import word_tokenize\n",
    "from nltk.corpus import stopwords\n",
    "import nltk\n",
    "\n",
    "# Ensure NLTK resources are downloaded\n",
    "nltk.download('stopwords')\n",
    "nltk.download('punkt')\n",
    "\n",
    "# Preprocess text\n",
    "def preprocess_text(text):\n",
    "    tokens = word_tokenize(text.lower())\n",
    "    tokens = [word for word in tokens if word.isalnum() and word not in stopwords.words('english')]\n",
    "    return tokens\n",
    "\n",
    "# Get average Word2Vec vector\n",
    "def get_avg_word2vec_vector(tokens, model, vector_size):\n",
    "    vectors = [model.wv[word] for word in tokens if word in model.wv]\n",
    "    if len(vectors) == 0:\n",
    "        return np.zeros(vector_size)\n",
    "    return np.mean(vectors, axis=0)\n",
    "\n",
    "model = joblib.load('startup_trend_classifier_word2vec.pkl')\n",
    "word2vec_model = Word2Vec.load('word2vec_model_startup.w2v')\n",
    "\n",
    "def predict_startup(startup):\n",
    "    processed_description = preprocess_text(startup['description'])\n",
    "    description_vector = get_avg_word2vec_vector(processed_description, word2vec_model, 100).reshape(1, -1)\n",
    "\n",
    "    # Process tags and generate Word2Vec embedding\n",
    "    processed_tags = preprocess_text(startup['tags'])\n",
    "    tags_vector = get_avg_word2vec_vector(processed_tags, word2vec_model, 100).reshape(1, -1)\n",
    "\n",
    "    # Combine features\n",
    "    numerical_features = np.array([startup['team_size'], startup['num_founders']]).reshape(1, -1)\n",
    "    input_features = np.hstack((numerical_features, description_vector, tags_vector))\n",
    "\n",
    "    # Predict\n",
    "    prediction = model.predict(input_features)\n",
    "    probability = model.predict_proba(input_features)[0][1]  # Probability of being Post-2022\n",
    "    return prediction[0], probability\n",
    "\n",
    "# Example input\n",
    "new_startup = {\n",
    "    'team_size': 3,\n",
    "    'num_founders': 2,\n",
    "    'description': \"An innovative AI platform for large language models development\",\n",
    "    'tags': \"['artificial-intelligence', 'machine-learning', 'llms']\"\n",
    "}\n",
    "\n",
    "prediction, probability = predict_startup(new_startup)\n",
    "print(\"Prediction:\", \"Likely aligns with Post-2022 trends\" if prediction == 1 else \"Unlikely to align\")\n",
    "print(f\"Probability of alignment: {probability:.2f}\")\n"
   ]
  },
  {
   "cell_type": "code",
   "execution_count": 43,
   "id": "271da50b",
   "metadata": {},
   "outputs": [
    {
     "ename": "NameError",
     "evalue": "name 'cm' is not defined",
     "output_type": "error",
     "traceback": [
      "\u001b[0;31m---------------------------------------------------------------------------\u001b[0m",
      "\u001b[0;31mNameError\u001b[0m                                 Traceback (most recent call last)",
      "Cell \u001b[0;32mIn[43], line 19\u001b[0m\n\u001b[1;32m     11\u001b[0m             plt\u001b[38;5;241m.\u001b[39mtext(\n\u001b[1;32m     12\u001b[0m                 j \u001b[38;5;241m+\u001b[39m \u001b[38;5;241m0.5\u001b[39m, i \u001b[38;5;241m+\u001b[39m \u001b[38;5;241m0.5\u001b[39m,  \u001b[38;5;66;03m# Position\u001b[39;00m\n\u001b[1;32m     13\u001b[0m                 \u001b[38;5;28mformat\u001b[39m(data[i, j], \u001b[38;5;124m'\u001b[39m\u001b[38;5;124md\u001b[39m\u001b[38;5;124m'\u001b[39m),  \n\u001b[1;32m     14\u001b[0m                 ha\u001b[38;5;241m=\u001b[39m\u001b[38;5;124m'\u001b[39m\u001b[38;5;124mcenter\u001b[39m\u001b[38;5;124m'\u001b[39m, va\u001b[38;5;241m=\u001b[39m\u001b[38;5;124m'\u001b[39m\u001b[38;5;124mcenter\u001b[39m\u001b[38;5;124m'\u001b[39m,\n\u001b[1;32m     15\u001b[0m                 color\u001b[38;5;241m=\u001b[39mtextcolors[\u001b[38;5;28mint\u001b[39m(data[i, j] \u001b[38;5;241m>\u001b[39m threshold)]  \u001b[38;5;66;03m# Choose color based on threshold\u001b[39;00m\n\u001b[1;32m     16\u001b[0m             )\n\u001b[1;32m     18\u001b[0m plt\u001b[38;5;241m.\u001b[39mfigure(figsize\u001b[38;5;241m=\u001b[39m(\u001b[38;5;241m8\u001b[39m, \u001b[38;5;241m6\u001b[39m))\n\u001b[0;32m---> 19\u001b[0m sns\u001b[38;5;241m.\u001b[39mheatmap(cm, annot\u001b[38;5;241m=\u001b[39m\u001b[38;5;28;01mFalse\u001b[39;00m, fmt\u001b[38;5;241m=\u001b[39m\u001b[38;5;124m'\u001b[39m\u001b[38;5;124md\u001b[39m\u001b[38;5;124m'\u001b[39m, cmap\u001b[38;5;241m=\u001b[39m\u001b[38;5;124m'\u001b[39m\u001b[38;5;124mBlues\u001b[39m\u001b[38;5;124m'\u001b[39m,\n\u001b[1;32m     20\u001b[0m             xticklabels\u001b[38;5;241m=\u001b[39m[\u001b[38;5;124m\"\u001b[39m\u001b[38;5;124mPre-2022\u001b[39m\u001b[38;5;124m\"\u001b[39m, \u001b[38;5;124m\"\u001b[39m\u001b[38;5;124mPost-2022\u001b[39m\u001b[38;5;124m\"\u001b[39m],\n\u001b[1;32m     21\u001b[0m             yticklabels\u001b[38;5;241m=\u001b[39m[\u001b[38;5;124m\"\u001b[39m\u001b[38;5;124mPre-2022\u001b[39m\u001b[38;5;124m\"\u001b[39m, \u001b[38;5;124m\"\u001b[39m\u001b[38;5;124mPost-2022\u001b[39m\u001b[38;5;124m\"\u001b[39m],\n\u001b[1;32m     22\u001b[0m             cbar\u001b[38;5;241m=\u001b[39m\u001b[38;5;28;01mTrue\u001b[39;00m)\n\u001b[1;32m     24\u001b[0m annotate_heatmap(cm, text_colors\u001b[38;5;241m=\u001b[39m(\u001b[38;5;124m'\u001b[39m\u001b[38;5;124mblack\u001b[39m\u001b[38;5;124m'\u001b[39m, \u001b[38;5;124m'\u001b[39m\u001b[38;5;124mwhite\u001b[39m\u001b[38;5;124m'\u001b[39m))\n\u001b[1;32m     26\u001b[0m plt\u001b[38;5;241m.\u001b[39mtitle(\u001b[38;5;124m\"\u001b[39m\u001b[38;5;124mConfusion Matrix\u001b[39m\u001b[38;5;124m\"\u001b[39m, fontsize\u001b[38;5;241m=\u001b[39m\u001b[38;5;241m16\u001b[39m)\n",
      "\u001b[0;31mNameError\u001b[0m: name 'cm' is not defined"
     ]
    },
    {
     "data": {
      "text/plain": [
       "<Figure size 800x600 with 0 Axes>"
      ]
     },
     "metadata": {},
     "output_type": "display_data"
    }
   ],
   "source": [
    "import numpy as np\n",
    "\n",
    "def annotate_heatmap(data, text_colors=('black', 'white'), threshold=None):\n",
    "    if not threshold:\n",
    "        threshold = data.max() / 2  # Set threshold to half the maximum value in the heatmap\n",
    "    textcolors = np.array(text_colors)\n",
    "\n",
    "    # Annotate the heatmap\n",
    "    for i in range(data.shape[0]):\n",
    "        for j in range(data.shape[1]):\n",
    "            plt.text(\n",
    "                j + 0.5, i + 0.5,  # Position\n",
    "                format(data[i, j], 'd'),  \n",
    "                ha='center', va='center',\n",
    "                color=textcolors[int(data[i, j] > threshold)]  # Choose color based on threshold\n",
    "            )\n",
    "\n",
    "plt.figure(figsize=(8, 6))\n",
    "sns.heatmap(cm, annot=False, fmt='d', cmap='Blues',\n",
    "            xticklabels=[\"Pre-2022\", \"Post-2022\"],\n",
    "            yticklabels=[\"Pre-2022\", \"Post-2022\"],\n",
    "            cbar=True)\n",
    "\n",
    "annotate_heatmap(cm, text_colors=('black', 'white'))\n",
    "\n",
    "plt.title(\"Confusion Matrix\", fontsize=16)\n",
    "plt.xlabel(\"Predicted Labels\", fontsize=14)\n",
    "plt.ylabel(\"True Labels\", fontsize=14)\n",
    "plt.show()\n"
   ]
  },
  {
   "cell_type": "code",
   "execution_count": 44,
   "id": "e821bbd2",
   "metadata": {},
   "outputs": [
    {
     "data": {
      "image/png": "[encoded data removed]",
      "text/plain": [
       "<Figure size 800x600 with 1 Axes>"
      ]
     },
     "metadata": {},
     "output_type": "display_data"
    }
   ],
   "source": [
    "from sklearn.metrics import roc_curve, auc\n",
    "\n",
    "# Predicted probabilities for ROC\n",
    "y_prob = log_reg.predict_proba(X_test)[:, 1]\n",
    "fpr, tpr, _ = roc_curve(y_test, y_prob)\n",
    "roc_auc = auc(fpr, tpr)\n",
    "\n",
    "# ROC Curve Plot\n",
    "plt.figure(figsize=(8, 6))\n",
    "plt.plot(fpr, tpr, color='blue', lw=2, label=f'ROC Curve (AUC = {roc_auc:.2f})')\n",
    "plt.plot([0, 1], [0, 1], color='gray', linestyle='--', lw=2)\n",
    "plt.title(\"Receiver Operating Characteristic (ROC) Curve\")\n",
    "plt.xlabel(\"False Positive Rate\")\n",
    "plt.ylabel(\"True Positive Rate\")\n",
    "plt.legend(loc=\"lower right\")\n",
    "plt.show()\n"
   ]
  }
 ],
 "metadata": {
  "kernelspec": {
   "display_name": "Python 3 (ipykernel)",
   "language": "python",
   "name": "python3"
  },
  "language_info": {
   "codemirror_mode": {
    "name": "ipython",
    "version": 3
   },
   "file_extension": ".py",
   "mimetype": "text/x-python",
   "name": "python",
   "nbconvert_exporter": "python",
   "pygments_lexer": "ipython3",
   "version": "3.11.7"
  }
 },
 "nbformat": 4,
 "nbformat_minor": 5
}
